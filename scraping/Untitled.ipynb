{
 "cells": [
  {
   "cell_type": "code",
   "execution_count": 1,
   "id": "621bfc8c-dd92-41c1-b211-1aad3d1a80ea",
   "metadata": {},
   "outputs": [],
   "source": [
    "import pandas as pd\n",
    "import requests\n",
    "from bs4 import BeautifulSoup\n",
    "from urllib.parse import urljoin\n",
    "import json\n"
   ]
  },
  {
   "cell_type": "code",
   "execution_count": 2,
   "id": "24c3f8fd-2d33-4ea9-9149-9fc88b62816b",
   "metadata": {},
   "outputs": [
    {
     "name": "stdout",
     "output_type": "stream",
     "text": [
      "                                                  url\n",
      "0   https://pubchem.ncbi.nlm.nih.gov/compound/N-Vi...\n",
      "1   https://www.shokubai.co.jp/en/products/detail/...\n",
      "2   https://pubchem.ncbi.nlm.nih.gov/compound/N-Vi...\n",
      "3   https://www.sciencedirect.com/topics/pharmacol...\n",
      "4   https://www.ncbi.nlm.nih.gov/books/NBK498761/#...\n",
      "5   https://www.sciencedirect.com/topics/agricultu...\n",
      "6   https://www.shokubai.co.jp/en/products/detail/...\n",
      "7   https://adhesives.specialchem.com/product/m-ba...\n",
      "8   https://www.welinkschem.com/nvp-n-vinyl-pyrrol...\n",
      "9   https://pubs.rsc.org/en/content/articlelanding...\n",
      "10  https://www.science.gov/topicpages/n/n-vinyl+p...\n",
      "11  https://shdexiang.en.made-in-china.com/product...\n",
      "12  https://www.cphi-online.com/nvp-n-vinylpyrroli...\n",
      "13           https://www.mdpi.com/2073-4360/11/6/1079\n",
      "14  https://products.basf.com/global/en/ci/n-vinyl...\n"
     ]
    }
   ],
   "source": [
    "file_name = 'Scrapping Python Assigment.csv'\n",
    "data = pd.read_csv(file_name)\n",
    "print(data)"
   ]
  },
  {
   "cell_type": "code",
   "execution_count": 3,
   "id": "1594dc58-061f-47ff-9e72-37b1372d6ecc",
   "metadata": {},
   "outputs": [],
   "source": [
    "def scrape_data(url):\n",
    "    \n",
    "    try:\n",
    "        response = requests.get(url)\n",
    "        response.raise_for_status()\n",
    "\n",
    "        soup = BeautifulSoup(response.content, 'html.parser')\n",
    "\n",
    "        \n",
    "        text = soup.get_text()\n",
    "        images = [urljoin(url, img['src']) for img in soup.find_all('img') if 'src' in img.attrs]\n",
    "        links = [urljoin(url, a['href']) for a in soup.find_all('a') if 'href' in a.attrs]\n",
    "\n",
    "        return {'text': text, 'images': images, 'links': links}\n",
    "    except requests.RequestException as e:\n",
    "        print(f\"Failed to retrieve data from {url}\")\n",
    "        return None"
   ]
  },
  {
   "cell_type": "code",
   "execution_count": 4,
   "id": "4ba80de9-0215-40a9-aace-18ba7c70595e",
   "metadata": {},
   "outputs": [
    {
     "name": "stdout",
     "output_type": "stream",
     "text": [
      "Failed to retrieve data from https://www.sciencedirect.com/topics/pharmacology-toxicology-and-pharmaceutical-science/1-vinyl-2-pyrrolidinone\n",
      "Failed to retrieve data from https://www.sciencedirect.com/topics/agricultural-and-biological-sciences/polyvinylpyrrolidone#:~:text=PVP%20added%20to%20iodine%20forms,trade%20name%20Betadine%20and%20Pyodine\n",
      "Failed to retrieve data from https://www.welinkschem.com/nvp-n-vinyl-pyrrolidone/\n",
      "Failed to retrieve data from https://pubs.rsc.org/en/content/articlelanding/2019/py/c8py01459k\n",
      "Failed to retrieve data from https://shdexiang.en.made-in-china.com/product/tXfQDioPsKVn/China-N-Vinylpyrrolidone-CAS-No-88-12-0-C6h9no.html\n"
     ]
    },
    {
     "name": "stderr",
     "output_type": "stream",
     "text": [
      "C:\\Users\\Shauryaman\\AppData\\Local\\Temp\\ipykernel_19760\\1283650777.py:4: FutureWarning: The frame.append method is deprecated and will be removed from pandas in a future version. Use pandas.concat instead.\n",
      "  data.append(result, ignore_index=True)\n"
     ]
    },
    {
     "data": {
      "text/html": [
       "<div>\n",
       "<style scoped>\n",
       "    .dataframe tbody tr th:only-of-type {\n",
       "        vertical-align: middle;\n",
       "    }\n",
       "\n",
       "    .dataframe tbody tr th {\n",
       "        vertical-align: top;\n",
       "    }\n",
       "\n",
       "    .dataframe thead th {\n",
       "        text-align: right;\n",
       "    }\n",
       "</style>\n",
       "<table border=\"1\" class=\"dataframe\">\n",
       "  <thead>\n",
       "    <tr style=\"text-align: right;\">\n",
       "      <th></th>\n",
       "      <th>url</th>\n",
       "    </tr>\n",
       "  </thead>\n",
       "  <tbody>\n",
       "    <tr>\n",
       "      <th>0</th>\n",
       "      <td>https://pubchem.ncbi.nlm.nih.gov/compound/N-Vi...</td>\n",
       "    </tr>\n",
       "    <tr>\n",
       "      <th>1</th>\n",
       "      <td>https://www.shokubai.co.jp/en/products/detail/...</td>\n",
       "    </tr>\n",
       "    <tr>\n",
       "      <th>2</th>\n",
       "      <td>https://pubchem.ncbi.nlm.nih.gov/compound/N-Vi...</td>\n",
       "    </tr>\n",
       "    <tr>\n",
       "      <th>3</th>\n",
       "      <td>https://www.sciencedirect.com/topics/pharmacol...</td>\n",
       "    </tr>\n",
       "    <tr>\n",
       "      <th>4</th>\n",
       "      <td>https://www.ncbi.nlm.nih.gov/books/NBK498761/#...</td>\n",
       "    </tr>\n",
       "    <tr>\n",
       "      <th>5</th>\n",
       "      <td>https://www.sciencedirect.com/topics/agricultu...</td>\n",
       "    </tr>\n",
       "    <tr>\n",
       "      <th>6</th>\n",
       "      <td>https://www.shokubai.co.jp/en/products/detail/...</td>\n",
       "    </tr>\n",
       "    <tr>\n",
       "      <th>7</th>\n",
       "      <td>https://adhesives.specialchem.com/product/m-ba...</td>\n",
       "    </tr>\n",
       "    <tr>\n",
       "      <th>8</th>\n",
       "      <td>https://www.welinkschem.com/nvp-n-vinyl-pyrrol...</td>\n",
       "    </tr>\n",
       "    <tr>\n",
       "      <th>9</th>\n",
       "      <td>https://pubs.rsc.org/en/content/articlelanding...</td>\n",
       "    </tr>\n",
       "    <tr>\n",
       "      <th>10</th>\n",
       "      <td>https://www.science.gov/topicpages/n/n-vinyl+p...</td>\n",
       "    </tr>\n",
       "    <tr>\n",
       "      <th>11</th>\n",
       "      <td>https://shdexiang.en.made-in-china.com/product...</td>\n",
       "    </tr>\n",
       "    <tr>\n",
       "      <th>12</th>\n",
       "      <td>https://www.cphi-online.com/nvp-n-vinylpyrroli...</td>\n",
       "    </tr>\n",
       "    <tr>\n",
       "      <th>13</th>\n",
       "      <td>https://www.mdpi.com/2073-4360/11/6/1079</td>\n",
       "    </tr>\n",
       "    <tr>\n",
       "      <th>14</th>\n",
       "      <td>https://products.basf.com/global/en/ci/n-vinyl...</td>\n",
       "    </tr>\n",
       "  </tbody>\n",
       "</table>\n",
       "</div>"
      ],
      "text/plain": [
       "                                                  url\n",
       "0   https://pubchem.ncbi.nlm.nih.gov/compound/N-Vi...\n",
       "1   https://www.shokubai.co.jp/en/products/detail/...\n",
       "2   https://pubchem.ncbi.nlm.nih.gov/compound/N-Vi...\n",
       "3   https://www.sciencedirect.com/topics/pharmacol...\n",
       "4   https://www.ncbi.nlm.nih.gov/books/NBK498761/#...\n",
       "5   https://www.sciencedirect.com/topics/agricultu...\n",
       "6   https://www.shokubai.co.jp/en/products/detail/...\n",
       "7   https://adhesives.specialchem.com/product/m-ba...\n",
       "8   https://www.welinkschem.com/nvp-n-vinyl-pyrrol...\n",
       "9   https://pubs.rsc.org/en/content/articlelanding...\n",
       "10  https://www.science.gov/topicpages/n/n-vinyl+p...\n",
       "11  https://shdexiang.en.made-in-china.com/product...\n",
       "12  https://www.cphi-online.com/nvp-n-vinylpyrroli...\n",
       "13           https://www.mdpi.com/2073-4360/11/6/1079\n",
       "14  https://products.basf.com/global/en/ci/n-vinyl..."
      ]
     },
     "execution_count": 4,
     "metadata": {},
     "output_type": "execute_result"
    }
   ],
   "source": [
    "for url in data['url']:\n",
    "        result = scrape_data(url)\n",
    "if result:\n",
    "    data.append(result, ignore_index=True)\n",
    "data"
   ]
  },
  {
   "cell_type": "code",
   "execution_count": 5,
   "id": "ea20c77b-b0bb-4319-acd9-42afd8c12093",
   "metadata": {},
   "outputs": [],
   "source": [
    "data_dict = data.to_dict(orient='records')\n",
    "with open('data.json', 'w') as f:\n",
    "    json.dump(data_dict, f, indent=4)"
   ]
  },
  {
   "cell_type": "code",
   "execution_count": null,
   "id": "81c18f8c-2e80-478a-8807-d66896242bb4",
   "metadata": {},
   "outputs": [],
   "source": []
  },
  {
   "cell_type": "code",
   "execution_count": null,
   "id": "0d0978c8-7c97-41fa-b7a5-c3d842addca9",
   "metadata": {},
   "outputs": [],
   "source": []
  },
  {
   "cell_type": "code",
   "execution_count": null,
   "id": "81cc63c0-a5ab-4bfb-a21c-6218fac29238",
   "metadata": {},
   "outputs": [],
   "source": []
  }
 ],
 "metadata": {
  "kernelspec": {
   "display_name": "Python 3 (ipykernel)",
   "language": "python",
   "name": "python3"
  },
  "language_info": {
   "codemirror_mode": {
    "name": "ipython",
    "version": 3
   },
   "file_extension": ".py",
   "mimetype": "text/x-python",
   "name": "python",
   "nbconvert_exporter": "python",
   "pygments_lexer": "ipython3",
   "version": "3.11.4"
  }
 },
 "nbformat": 4,
 "nbformat_minor": 5
}
